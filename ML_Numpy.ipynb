{
  "nbformat": 4,
  "nbformat_minor": 0,
  "metadata": {
    "colab": {
      "name": "ML_Numpy.ipynb",
      "provenance": [],
      "authorship_tag": "ABX9TyPVGGtJXon4a3A4ogKtTBit",
      "include_colab_link": true
    },
    "kernelspec": {
      "name": "python3",
      "display_name": "Python 3"
    }
  },
  "cells": [
    {
      "cell_type": "markdown",
      "metadata": {
        "id": "view-in-github",
        "colab_type": "text"
      },
      "source": [
        "<a href=\"https://colab.research.google.com/github/sforceas/machine-learning/blob/master/ML_Numpy.ipynb\" target=\"_parent\"><img src=\"https://colab.research.google.com/assets/colab-badge.svg\" alt=\"Open In Colab\"/></a>"
      ]
    },
    {
      "cell_type": "code",
      "metadata": {
        "id": "a01QHCHjPSy0"
      },
      "source": [
        "import numpy as np"
      ],
      "execution_count": 2,
      "outputs": []
    },
    {
      "cell_type": "markdown",
      "metadata": {
        "id": "WA_pnNa4P4eg"
      },
      "source": [
        "Crear un array con el metodo **np.array([A,B,C])**"
      ]
    },
    {
      "cell_type": "code",
      "metadata": {
        "id": "s7u0UW0WPuXO"
      },
      "source": [
        "a = np.array([10,20,30,40,50,60,70])"
      ],
      "execution_count": 8,
      "outputs": []
    },
    {
      "cell_type": "markdown",
      "metadata": {
        "id": "bjea8KzMQK48"
      },
      "source": [
        "Obtener el valor que corresponde a un indice dentro del array. Empieza contando a partir de 0.\n",
        "**array[indice]**"
      ]
    },
    {
      "cell_type": "code",
      "metadata": {
        "colab": {
          "base_uri": "https://localhost:8080/"
        },
        "id": "aNm9ahU_QTGv",
        "outputId": "0adb1d96-ea5d-4c7c-dd14-d79826e4115e"
      },
      "source": [
        "a[4]"
      ],
      "execution_count": 9,
      "outputs": [
        {
          "output_type": "execute_result",
          "data": {
            "text/plain": [
              "50"
            ]
          },
          "metadata": {
            "tags": []
          },
          "execution_count": 9
        }
      ]
    },
    {
      "cell_type": "markdown",
      "metadata": {
        "id": "sKE1CMo8QyQg"
      },
      "source": [
        "Mostrar los datos de un arreglo a partir de una posición.\n",
        "\n",
        "* A partir del indice (incluido) en adelante: **array[indice :]**\n",
        "* Desde el inicio hasts al indice (no incluido): **array[: indice]**\n",
        "* Entre un primer indice (incluido) y un segundo índice (no incluido): **array[indice1 : indice2]**\n",
        "* A partir del indice (incluido) y saltando intervalos determinados de indices: **array[indice :: intervalo]**"
      ]
    },
    {
      "cell_type": "code",
      "metadata": {
        "colab": {
          "base_uri": "https://localhost:8080/"
        },
        "id": "ZpqjbQMkQxwg",
        "outputId": "0dbe480f-241c-4553-cccc-92391a62340b"
      },
      "source": [
        "print(a[4:])\n",
        "print(a[:4])\n",
        "print(a[2:4])\n",
        "print(a[0::2])"
      ],
      "execution_count": 16,
      "outputs": [
        {
          "output_type": "stream",
          "text": [
            "[50 60 70]\n",
            "[10 20 30 40]\n",
            "[30 40]\n",
            "[10 30 50 70]\n"
          ],
          "name": "stdout"
        }
      ]
    },
    {
      "cell_type": "markdown",
      "metadata": {
        "id": "sSm13MkGS2h3"
      },
      "source": [
        "Crear un arreglo unidimensional (vector) de ceros o unos con una determinada longitud: \n",
        "**np.zeros(longitud)**\n",
        "**np.ones(longitud)**"
      ]
    },
    {
      "cell_type": "code",
      "metadata": {
        "colab": {
          "base_uri": "https://localhost:8080/"
        },
        "id": "hPAayyoHS-MP",
        "outputId": "e95cec3f-705a-4d7a-9aee-b8d56580ede7"
      },
      "source": [
        "print(np.zeros(5))\n",
        "print(np.ones(10))"
      ],
      "execution_count": 21,
      "outputs": [
        {
          "output_type": "stream",
          "text": [
            "[0. 0. 0. 0. 0.]\n",
            "[1. 1. 1. 1. 1. 1. 1. 1. 1. 1.]\n"
          ],
          "name": "stdout"
        }
      ]
    },
    {
      "cell_type": "markdown",
      "metadata": {
        "id": "yLXSrlYeTipW"
      },
      "source": [
        "Crear un arreglo bidimensional (matriz) de ceros o unos con un determinado numero de columnas y filas: \n",
        "**np.zeros((filas,columnas))**\n",
        "**np.ones((filas,columnas))**"
      ]
    },
    {
      "cell_type": "code",
      "metadata": {
        "colab": {
          "base_uri": "https://localhost:8080/"
        },
        "id": "-HSgBCnkTIZr",
        "outputId": "f01d2d4e-07b4-45dc-e765-756d127aab65"
      },
      "source": [
        "print(np.zeros((2,5)))\n",
        "print(np.ones((5,2)))"
      ],
      "execution_count": 23,
      "outputs": [
        {
          "output_type": "stream",
          "text": [
            "[[0. 0. 0. 0. 0.]\n",
            " [0. 0. 0. 0. 0.]]\n",
            "[[1. 1.]\n",
            " [1. 1.]\n",
            " [1. 1.]\n",
            " [1. 1.]\n",
            " [1. 1.]]\n"
          ],
          "name": "stdout"
        }
      ]
    },
    {
      "cell_type": "markdown",
      "metadata": {
        "id": "qHyz0XIWT6kh"
      },
      "source": [
        "Conocer el tipo de variable de un arreglo con type():\n",
        "\n",
        "ndarray = arreglo de n dimensiones"
      ]
    },
    {
      "cell_type": "code",
      "metadata": {
        "colab": {
          "base_uri": "https://localhost:8080/"
        },
        "id": "mIcuemneT-M_",
        "outputId": "5036f4be-dee0-474b-89d7-55495eaadd1a"
      },
      "source": [
        "print(type(np.ones(())))\n",
        "print(type(3))\n",
        "print(type(4.3))\n",
        "print(type('4.3'))"
      ],
      "execution_count": 38,
      "outputs": [
        {
          "output_type": "stream",
          "text": [
            "<class 'numpy.ndarray'>\n",
            "<class 'int'>\n",
            "<class 'float'>\n",
            "<class 'str'>\n"
          ],
          "name": "stdout"
        }
      ]
    },
    {
      "cell_type": "markdown",
      "metadata": {
        "id": "tFGWLzw6VHF4"
      },
      "source": [
        "Generar un arreglo de n elementos a partir de un valor inicial y de uno final. La distancia es la misma entre todos los elementos.\n",
        "**np.linspace(inicial,final,n_elementos)**"
      ]
    },
    {
      "cell_type": "code",
      "metadata": {
        "colab": {
          "base_uri": "https://localhost:8080/"
        },
        "id": "7cGLhiJDVk-c",
        "outputId": "18b48aa4-b988-41bd-b15c-80ed98a4f109"
      },
      "source": [
        "b = np.linspace(3,10,5)\n",
        "print(b)\n",
        "print(b[2]-b[1])\n",
        "print(b[4]-b[3])"
      ],
      "execution_count": 40,
      "outputs": [
        {
          "output_type": "stream",
          "text": [
            "[ 3.    4.75  6.5   8.25 10.  ]\n",
            "1.75\n",
            "1.75\n"
          ],
          "name": "stdout"
        }
      ]
    },
    {
      "cell_type": "markdown",
      "metadata": {
        "id": "pAgPAY5kWE_N"
      },
      "source": [
        "Generar un arreglo de más dimensiones (matriz) con determinados valores. **np.array([[A,B,C],[D,E,F],[G,H,I])**"
      ]
    },
    {
      "cell_type": "code",
      "metadata": {
        "colab": {
          "base_uri": "https://localhost:8080/"
        },
        "id": "hgpwg6oUYQwj",
        "outputId": "8c1eceb2-6983-4eba-f7fa-92368e233b90"
      },
      "source": [
        "c = np.array([['A','B','C'],['D','E','F'],['G','H','I']])\n",
        "print(c)\n",
        "type(c)"
      ],
      "execution_count": 49,
      "outputs": [
        {
          "output_type": "stream",
          "text": [
            "[['A' 'B' 'C']\n",
            " ['D' 'E' 'F']\n",
            " ['G' 'H' 'I']]\n"
          ],
          "name": "stdout"
        },
        {
          "output_type": "execute_result",
          "data": {
            "text/plain": [
              "numpy.ndarray"
            ]
          },
          "metadata": {
            "tags": []
          },
          "execution_count": 49
        }
      ]
    },
    {
      "cell_type": "markdown",
      "metadata": {
        "id": "0L2nYdKtYj7i"
      },
      "source": [
        "Conocer las dimensiones de un arreglo con **array.ndim**"
      ]
    },
    {
      "cell_type": "code",
      "metadata": {
        "colab": {
          "base_uri": "https://localhost:8080/"
        },
        "id": "KYm85mW9Yxt6",
        "outputId": "3da5c6d5-d332-47e3-c6e3-5a46047b0916"
      },
      "source": [
        "c.ndim"
      ],
      "execution_count": 50,
      "outputs": [
        {
          "output_type": "execute_result",
          "data": {
            "text/plain": [
              "2"
            ]
          },
          "metadata": {
            "tags": []
          },
          "execution_count": 50
        }
      ]
    },
    {
      "cell_type": "markdown",
      "metadata": {
        "id": "UeZybWjTZG4k"
      },
      "source": [
        "Ordenar los valores de un arreglo con **np.sort(array)**"
      ]
    },
    {
      "cell_type": "code",
      "metadata": {
        "colab": {
          "base_uri": "https://localhost:8080/"
        },
        "id": "Mug8z4iDY_nM",
        "outputId": "81c29b9b-c3b0-4643-f130-6552d87f6165"
      },
      "source": [
        "d = np.array([2,6,3,10,60,1,33,412])\n",
        "np.sort(d)"
      ],
      "execution_count": 54,
      "outputs": [
        {
          "output_type": "execute_result",
          "data": {
            "text/plain": [
              "array([  1,   2,   3,   6,  10,  33,  60, 412])"
            ]
          },
          "metadata": {
            "tags": []
          },
          "execution_count": 54
        }
      ]
    },
    {
      "cell_type": "markdown",
      "metadata": {
        "id": "U3qo_o86Z37g"
      },
      "source": [
        "Crear una tabla a partir de dos listas de cabecera y datos, asignando nombres a las columnas y tipos de variable."
      ]
    },
    {
      "cell_type": "code",
      "metadata": {
        "colab": {
          "base_uri": "https://localhost:8080/"
        },
        "id": "ucObdTzqaDzW",
        "outputId": "7c72f148-a8c8-4bb0-c7c1-e410b286d639"
      },
      "source": [
        "cabeceras = [('nombre','S10'),('edad',int)]  #S10 string de longitud 10. Int entero\n",
        "datos = [('Juan',90),('Maria',50),('Javier',23),('Samanta',43)]\n",
        "\n",
        "usuarios = np.array(datos,dtype=cabeceras)\n",
        "usuarios"
      ],
      "execution_count": 60,
      "outputs": [
        {
          "output_type": "execute_result",
          "data": {
            "text/plain": [
              "array([(b'Juan', 90), (b'Maria', 50), (b'Javier', 23), (b'Samanta', 43)],\n",
              "      dtype=[('nombre', 'S10'), ('edad', '<i8')])"
            ]
          },
          "metadata": {
            "tags": []
          },
          "execution_count": 60
        }
      ]
    },
    {
      "cell_type": "markdown",
      "metadata": {
        "id": "B83k11ADbEx8"
      },
      "source": [
        "Ordenar los datos de un arreglo a partir de una variable."
      ]
    },
    {
      "cell_type": "code",
      "metadata": {
        "colab": {
          "base_uri": "https://localhost:8080/"
        },
        "id": "plQ_TX4FbDoY",
        "outputId": "763a4421-4222-40db-976d-b9e3aca12335"
      },
      "source": [
        "np.sort(usuarios,order='edad')"
      ],
      "execution_count": 61,
      "outputs": [
        {
          "output_type": "execute_result",
          "data": {
            "text/plain": [
              "array([(b'Javier', 23), (b'Samanta', 43), (b'Maria', 50), (b'Juan', 90)],\n",
              "      dtype=[('nombre', 'S10'), ('edad', '<i8')])"
            ]
          },
          "metadata": {
            "tags": []
          },
          "execution_count": 61
        }
      ]
    },
    {
      "cell_type": "markdown",
      "metadata": {
        "id": "a7p2VylJb3v6"
      },
      "source": [
        "Generar un array:\n",
        "* De 0 al limite superior incrementado en 1: **np.arange(lim_sup) \n",
        "* De un limite inferior a un limite superior incrementando en 1: **np.arange(lim_inf,lim_sup)**\n",
        "* De un limite inferior a un limite superior incrementando en intervalos: **np.arange(lim_inf,lim_sup,intervalo)**"
      ]
    },
    {
      "cell_type": "code",
      "metadata": {
        "colab": {
          "base_uri": "https://localhost:8080/"
        },
        "id": "5Q8pwnDTapab",
        "outputId": "0f7cd5e8-0586-4d48-8eb9-2681a4f0a2e6"
      },
      "source": [
        "print(np.arange(10))\n",
        "print(np.arange(10,20))\n",
        "print(np.arange(10,100,5))"
      ],
      "execution_count": 62,
      "outputs": [
        {
          "output_type": "stream",
          "text": [
            "[0 1 2 3 4 5 6 7 8 9]\n",
            "[10 11 12 13 14 15 16 17 18 19]\n",
            "[10 15 20 25 30 35 40 45 50 55 60 65 70 75 80 85 90 95]\n"
          ],
          "name": "stdout"
        }
      ]
    },
    {
      "cell_type": "markdown",
      "metadata": {
        "id": "lg33Ig9EceUw"
      },
      "source": [
        "Arreglo de n dimensiones (matriz) que esté totalmente contenido con un único valor. **np.full((filas,columnas), valor)**\n",
        "\n",
        "\n"
      ]
    },
    {
      "cell_type": "code",
      "metadata": {
        "colab": {
          "base_uri": "https://localhost:8080/"
        },
        "id": "x9nPn7NUcikw",
        "outputId": "b7e03744-e8bf-404c-eca8-db0beea1aceb"
      },
      "source": [
        "np.full((3,6),10)"
      ],
      "execution_count": 63,
      "outputs": [
        {
          "output_type": "execute_result",
          "data": {
            "text/plain": [
              "array([[10, 10, 10, 10, 10, 10],\n",
              "       [10, 10, 10, 10, 10, 10],\n",
              "       [10, 10, 10, 10, 10, 10]])"
            ]
          },
          "metadata": {
            "tags": []
          },
          "execution_count": 63
        }
      ]
    },
    {
      "cell_type": "markdown",
      "metadata": {
        "id": "nYVqXkYhc24s"
      },
      "source": [
        "Crear un arreglo de n dimensiones (matriz) que contenga una determinada diagonal. **no.diag([a,b,c,d])**"
      ]
    },
    {
      "cell_type": "code",
      "metadata": {
        "colab": {
          "base_uri": "https://localhost:8080/"
        },
        "id": "OuND17Kac2mL",
        "outputId": "4c35d96c-a0f7-444d-b740-08df57076405"
      },
      "source": [
        "np.diag([0,3,6,9])"
      ],
      "execution_count": 65,
      "outputs": [
        {
          "output_type": "execute_result",
          "data": {
            "text/plain": [
              "array([[0, 0, 0, 0],\n",
              "       [0, 3, 0, 0],\n",
              "       [0, 0, 6, 0],\n",
              "       [0, 0, 0, 9]])"
            ]
          },
          "metadata": {
            "tags": []
          },
          "execution_count": 65
        }
      ]
    }
  ]
}